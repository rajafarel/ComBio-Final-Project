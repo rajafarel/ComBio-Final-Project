{
 "cells": [
  {
   "cell_type": "code",
   "execution_count": null,
   "metadata": {},
   "outputs": [
    {
     "name": "stdout",
     "output_type": "stream",
     "text": [
      "Cleaned sequences saved to cleaned_Gasterosteusaculeatus.fasta\n"
     ]
    }
   ],
   "source": [
    "def parse_fasta(file_path):\n",
    "    sequences = {}\n",
    "    with open(file_path, 'r') as file:\n",
    "        current_seq_id = None\n",
    "        current_seq = []\n",
    "        for line in file:\n",
    "            if line.startswith('>'):\n",
    "                if current_seq_id is not None:\n",
    "                    sequences[current_seq_id] = ''.join(current_seq)\n",
    "                current_seq_id = line.strip()[1:]  \n",
    "                current_seq = []\n",
    "            else:\n",
    "                current_seq.append(line.strip().upper())\n",
    "        if current_seq_id is not None:\n",
    "            sequences[current_seq_id] = ''.join(current_seq)\n",
    "    return sequences\n",
    "\n",
    "\n",
    "def validate_sequences(sequences, valid_nucleotides={'A', 'T', 'C', 'G'}):\n",
    "    cleaned_sequences = {}\n",
    "    for seq_id, seq in sequences.items():\n",
    "        ambiguous_nucleotides = set(seq) - valid_nucleotides\n",
    "        if ambiguous_nucleotides:\n",
    "            print(f\"Sequence {seq_id} contains ambiguous nucleotides: {ambiguous_nucleotides}\")\n",
    "            seq = ''.join(base if base in valid_nucleotides else 'N' for base in seq)\n",
    "        cleaned_sequences[seq_id] = seq\n",
    "    return cleaned_sequences\n",
    "\n",
    "\n",
    "def save_fasta(sequences, output_path):\n",
    "    with open(output_path, 'w') as file:\n",
    "        for seq_id, seq in sequences.items():\n",
    "            file.write(f\">{seq_id}\\n\")\n",
    "            for i in range(0, len(seq), 80):  \n",
    "                file.write(seq[i:i+80] + '\\n')\n",
    "\n",
    "\n",
    "input_fasta_path = \"Gasterosteusaculeatus.fasta\"  \n",
    "output_fasta_path = \"cleaned_Gasterosteusaculeatus.fasta\"\n",
    "\n",
    "\n",
    "sequences = parse_fasta(input_fasta_path)\n",
    "cleaned_sequences = validate_sequences(sequences)\n",
    "\n",
    "\n",
    "save_fasta(cleaned_sequences, output_fasta_path)\n",
    "\n",
    "print(f\"Cleaned sequences saved to {output_fasta_path}\")\n"
   ]
  },
  {
   "cell_type": "code",
   "execution_count": null,
   "metadata": {},
   "outputs": [
    {
     "name": "stdout",
     "output_type": "stream",
     "text": [
      "Checking MUSCLE Path: True\n",
      "MUSCLE ran successfully!\n"
     ]
    }
   ],
   "source": [
    "import os\n",
    "import subprocess\n",
    "\n",
    "muscle_path = \"C:/muscle/muscle.exe\"\n",
    "print(f\"Checking MUSCLE Path: {os.path.exists(muscle_path)}\")  \n",
    "\n",
    "try:\n",
    "    subprocess.run(f'\"{muscle_path}\" -version', shell=True, check=True)\n",
    "    print(\"MUSCLE ran successfully!\")\n",
    "except FileNotFoundError:\n",
    "    print(\"MUSCLE executable not found.\")\n",
    "except subprocess.CalledProcessError as e:\n",
    "    print(f\"Error running MUSCLE: {e}\")\n",
    "\n"
   ]
  },
  {
   "cell_type": "code",
   "execution_count": 4,
   "metadata": {},
   "outputs": [
    {
     "name": "stdout",
     "output_type": "stream",
     "text": [
      "Aligned sequences saved to C:/Users/robyr/OneDrive/Desktop/Biology/final proj/aligned_cleaned_Gasterosteusaculeatus.fasta\n"
     ]
    }
   ],
   "source": [
    "import subprocess\n",
    "\n",
    "muscle_path = \"C:/muscle/muscle.exe\"\n",
    "input_fasta_path = \"C:/Users/robyr/OneDrive/Desktop/Biology/final proj/cleaned_Gasterosteusaculeatus.fasta\"\n",
    "aligned_fasta_path = \"C:/Users/robyr/OneDrive/Desktop/Biology/final proj/aligned_cleaned_Gasterosteusaculeatus.fasta\"\n",
    "\n",
    "try:\n",
    "    subprocess.run([\n",
    "        muscle_path,\n",
    "        \"-align\", input_fasta_path,\n",
    "        \"-output\", aligned_fasta_path\n",
    "    ], check=True)\n",
    "    print(f\"Aligned sequences saved to {aligned_fasta_path}\")\n",
    "except subprocess.CalledProcessError as e:\n",
    "    print(f\"An error occurred during MUSCLE execution: {e}\")\n"
   ]
  },
  {
   "cell_type": "code",
   "execution_count": null,
   "metadata": {},
   "outputs": [
    {
     "name": "stdout",
     "output_type": "stream",
     "text": [
      "Input file exists: True\n"
     ]
    }
   ],
   "source": [
    "# import os\n",
    "# print(f\"Input file exists: {os.path.exists(input_fasta_path)}\")\n"
   ]
  },
  {
   "cell_type": "code",
   "execution_count": null,
   "metadata": {},
   "outputs": [
    {
     "name": "stdout",
     "output_type": "stream",
     "text": [
      "Cleaned FASTA file saved to C:/Users/robyr/OneDrive/Desktop/Biology/final proj/cleaned_sequences_cleaned.fasta\n"
     ]
    }
   ],
   "source": [
    "# def clean_fasta(input_path, output_path):\n",
    "#     with open(input_path, 'r') as infile, open(output_path, 'w') as outfile:\n",
    "#         for line in infile:\n",
    "#             if line.startswith('>'):\n",
    "#                 header = line.split()[0]\n",
    "#                 outfile.write(f\"{header}\\n\")\n",
    "#             else:\n",
    "#                 outfile.write(line.strip().upper() + '\\n')\n",
    "\n",
    "\n",
    "# input_fasta = \"C:/Users/robyr/OneDrive/Desktop/Biology/final proj/cleaned_sequences.fasta\"\n",
    "# cleaned_fasta = \"C:/Users/robyr/OneDrive/Desktop/Biology/final proj/cleaned_sequences_cleaned.fasta\"\n",
    "\n",
    "# clean_fasta(input_fasta, cleaned_fasta)\n",
    "# print(f\"Cleaned FASTA file saved to {cleaned_fasta}\")\n"
   ]
  },
  {
   "cell_type": "code",
   "execution_count": null,
   "metadata": {},
   "outputs": [
    {
     "name": "stdout",
     "output_type": "stream",
     "text": [
      "FASTA file contains 10 valid sequences.\n"
     ]
    }
   ],
   "source": [
    "# from Bio import SeqIO\n",
    "\n",
    "# try:\n",
    "#     fasta_sequences = list(SeqIO.parse(input_fasta_path, \"fasta\"))\n",
    "#     print(f\"FASTA file contains {len(fasta_sequences)} valid sequences.\")\n",
    "# except Exception as e:\n",
    "#     print(f\"Error in FASTA file: {e}\")\n"
   ]
  },
  {
   "cell_type": "code",
   "execution_count": 5,
   "metadata": {},
   "outputs": [
    {
     "name": "stdout",
     "output_type": "stream",
     "text": [
      "All sequences are the same length: 3714 bases.\n"
     ]
    }
   ],
   "source": [
    "from Bio import SeqIO\n",
    "\n",
    "aligned_fasta_path = \"C:/Users/robyr/OneDrive/Desktop/Biology/final proj/aligned_cleaned_Gasterosteusaculeatus.fasta\"\n",
    "\n",
    "sequence_lengths = [len(record.seq) for record in SeqIO.parse(aligned_fasta_path, \"fasta\")]\n",
    "\n",
    "if len(set(sequence_lengths)) == 1:\n",
    "    print(f\"All sequences are the same length: {sequence_lengths[0]} bases.\")\n",
    "else:\n",
    "    print(f\"Sequences have different lengths: {set(sequence_lengths)}\")\n"
   ]
  }
 ],
 "metadata": {
  "kernelspec": {
   "display_name": "Python 3",
   "language": "python",
   "name": "python3"
  },
  "language_info": {
   "codemirror_mode": {
    "name": "ipython",
    "version": 3
   },
   "file_extension": ".py",
   "mimetype": "text/x-python",
   "name": "python",
   "nbconvert_exporter": "python",
   "pygments_lexer": "ipython3",
   "version": "3.11.5"
  }
 },
 "nbformat": 4,
 "nbformat_minor": 2
}
