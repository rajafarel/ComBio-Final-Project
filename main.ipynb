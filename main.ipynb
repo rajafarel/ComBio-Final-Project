{
 "cells": [
  {
   "cell_type": "code",
   "execution_count": 1,
   "metadata": {},
   "outputs": [],
   "source": [
    "import Bio as Bio\n",
    "from Bio import SeqIO\n",
    "from Bio import AlignIO\n",
    "from Bio import Phylo"
   ]
  },
  {
   "cell_type": "code",
   "execution_count": 36,
   "metadata": {},
   "outputs": [
    {
     "data": {
      "text/plain": [
       "17"
      ]
     },
     "execution_count": 36,
     "metadata": {},
     "output_type": "execute_result"
    }
   ],
   "source": [
    "\n",
    "t1 = list(SeqIO.parse(\"sequence.fasta\", \"fasta\"))\n",
    "t2 = SeqIO.read(\"sequence2.fasta\", \"fasta\")\n",
    "t3 = SeqIO.read(\"sequence3.fasta\", \"fasta\")\n",
    "t4 = SeqIO.read(\"sequence4.fasta\", \"fasta\")\n",
    "t5 = SeqIO.read(\"sequence5.fasta\", \"fasta\")\n",
    "t6 = SeqIO.read(\"sequence6.fasta\", \"fasta\")\n",
    "t7 = SeqIO.read(\"sequence7.fasta\", \"fasta\")\n",
    "t8 = SeqIO.read(\"sequence8.fasta\", \"fasta\")\n",
    "\n",
    "# Combine all records into a single list\n",
    "all_sequences = t1 + [t2, t3, t4, t5, t6, t7, t8]\n",
    "\n",
    "SeqIO.write(all_sequences, \"freshwater_fish.fasta\", \"fasta\")\n",
    "\n",
    "\n",
    "\n",
    "\n"
   ]
  },
  {
   "cell_type": "code",
   "execution_count": 39,
   "metadata": {},
   "outputs": [
    {
     "name": "stdout",
     "output_type": "stream",
     "text": [
      "<class 'Bio.Align.MultipleSeqAlignment'>\n",
      "Alignment with 17 rows and 17226 columns\n",
      "--------------------------------------------...--- AM269527.1\n",
      "--------------------------------------------...--- AJ245809.1\n",
      "--------------------------------------------...--- KV900445.1\n",
      "--------------------------------------------...--- LC797960.1\n",
      "--------------------------------------------...--- XM_046030096.1\n",
      "--------------------------------------------...--- Mustelus\n",
      "--------------------------------------------...--- Urophycis\n",
      "--------------------------------------------...--- Pollachius\n",
      "--------------------------------------------...--- Gadus\n",
      "--------------------------------------------...--- Xiphias\n",
      "--------------------------------------------...--- Paralichthys\n",
      "--------------------------------------------...--- Pseudopleuronectes\n",
      "--------------------------------------------...--- Hippoglossus\n",
      "--------------------------------------------...--- Dicentrarchus\n",
      "--------------------------------------------...--- Thunnus\n",
      "GCTAGTGTAGCTTAAGCAAAGCATAACACTGAAGATGTTAAGAT...ATA AP012000.1\n",
      "--------------------------------------------...--- DR397932.1\n"
     ]
    }
   ],
   "source": [
    "with open(\"freshwater_fish_align.aln-clustalw\",\"r\") as aln: \n",
    "    alignment = AlignIO.read(aln,\"clustal\")\n",
    "print(type(alignment))\n",
    "print(alignment)"
   ]
  },
  {
   "cell_type": "code",
   "execution_count": 1,
   "metadata": {},
   "outputs": [],
   "source": [
    "#K2P Algorithm\n",
    "import math\n",
    "import numpy as np\n",
    "\n",
    "def calculate_transversion_transition(seq1, seq2):\n",
    "    transitions = 0 #point mutation (A -> G), (C -> T)\n",
    "    transversions = 0 #point mutation (A -> C, A -> T) (G -> C, G -> T)\n",
    "    total_sites = 0\n",
    "\n",
    "    pairs_of_transitions = {\n",
    "        (\"A\", \"G\"),\n",
    "        (\"G\", \"A\"),\n",
    "        (\"C\", \"T\"),\n",
    "        (\"T\", \"C\")\n",
    "    } \n",
    "\n",
    "    for a, b in zip(seq1, seq2):\n",
    "        if a == \"-\" or b == \"-\":\n",
    "            continue\n",
    "        total_sites += 1\n",
    "        if a != b:\n",
    "            if (a, b) in pairs_of_transitions:\n",
    "                transitions += 1\n",
    "            else:\n",
    "                transversions += 1\n",
    "\n",
    "    return transitions, transversions, total_sites\n",
    "\n",
    "def k2p_distance(seq1, seq2):\n",
    "    ts, tv, total_sites = calculate_transversion_transition(seq1, seq2)\n",
    "\n",
    "    if total_sites == 0:\n",
    "        return float(\"inf\")\n",
    "     \n",
    "    p = ts / total_sites #nucleotide count of transitions\n",
    "    q = tv / total_sites #nucleotide count of transversions\n",
    "\n",
    "    if 1 - 2 * p - q <= 0:  # Avoid math domain errors\n",
    "        return float(\"inf\")\n",
    "    \n",
    "    return -0.5 * math.log(1 - 2 * p - q)\n",
    "\n",
    "def compute_k2p_matrix(sequences):\n",
    "    num_of_sequences = len(sequences)\n",
    "    distance_matrix = np.zeros((num_of_sequences, num_of_sequences))\n",
    "\n",
    "    for i in range(num_of_sequences):\n",
    "        for j in range(i + 1, num_of_sequences):\n",
    "            distance_matrix[i][j] = k2p_distance(sequences[i], sequences[j])\n",
    "            distance_matrix[j][i] = distance_matrix[i][j] \n",
    "\n",
    "    return distance_matrix\n",
    "\n"
   ]
  }
 ],
 "metadata": {
  "kernelspec": {
   "display_name": "Python 3",
   "language": "python",
   "name": "python3"
  },
  "language_info": {
   "codemirror_mode": {
    "name": "ipython",
    "version": 3
   },
   "file_extension": ".py",
   "mimetype": "text/x-python",
   "name": "python",
   "nbconvert_exporter": "python",
   "pygments_lexer": "ipython3",
   "version": "3.11.0"
  }
 },
 "nbformat": 4,
 "nbformat_minor": 2
}
