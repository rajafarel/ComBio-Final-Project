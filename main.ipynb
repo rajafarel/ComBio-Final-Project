{
 "cells": [
  {
   "cell_type": "code",
   "execution_count": 1,
   "metadata": {},
   "outputs": [],
   "source": [
    "import Bio as Bio\n",
    "from Bio import SeqIO\n",
    "from Bio import AlignIO\n",
    "from Bio import Phylo"
   ]
  },
  {
   "cell_type": "code",
   "execution_count": 36,
   "metadata": {},
   "outputs": [
    {
     "data": {
      "text/plain": [
       "17"
      ]
     },
     "execution_count": 36,
     "metadata": {},
     "output_type": "execute_result"
    }
   ],
   "source": [
    "\n",
    "t1 = list(SeqIO.parse(\"sequence.fasta\", \"fasta\"))\n",
    "t2 = SeqIO.read(\"sequence2.fasta\", \"fasta\")\n",
    "t3 = SeqIO.read(\"sequence3.fasta\", \"fasta\")\n",
    "t4 = SeqIO.read(\"sequence4.fasta\", \"fasta\")\n",
    "t5 = SeqIO.read(\"sequence5.fasta\", \"fasta\")\n",
    "t6 = SeqIO.read(\"sequence6.fasta\", \"fasta\")\n",
    "t7 = SeqIO.read(\"sequence7.fasta\", \"fasta\")\n",
    "t8 = SeqIO.read(\"sequence8.fasta\", \"fasta\")\n",
    "\n",
    "# Combine all records into a single list\n",
    "all_sequences = t1 + [t2, t3, t4, t5, t6, t7, t8]\n",
    "\n",
    "SeqIO.write(all_sequences, \"freshwater_fish.fasta\", \"fasta\")\n",
    "\n",
    "\n",
    "\n",
    "\n"
   ]
  },
  {
   "cell_type": "code",
   "execution_count": 39,
   "metadata": {},
   "outputs": [
    {
     "name": "stdout",
     "output_type": "stream",
     "text": [
      "<class 'Bio.Align.MultipleSeqAlignment'>\n",
      "Alignment with 17 rows and 17226 columns\n",
      "--------------------------------------------...--- AM269527.1\n",
      "--------------------------------------------...--- AJ245809.1\n",
      "--------------------------------------------...--- KV900445.1\n",
      "--------------------------------------------...--- LC797960.1\n",
      "--------------------------------------------...--- XM_046030096.1\n",
      "--------------------------------------------...--- Mustelus\n",
      "--------------------------------------------...--- Urophycis\n",
      "--------------------------------------------...--- Pollachius\n",
      "--------------------------------------------...--- Gadus\n",
      "--------------------------------------------...--- Xiphias\n",
      "--------------------------------------------...--- Paralichthys\n",
      "--------------------------------------------...--- Pseudopleuronectes\n",
      "--------------------------------------------...--- Hippoglossus\n",
      "--------------------------------------------...--- Dicentrarchus\n",
      "--------------------------------------------...--- Thunnus\n",
      "GCTAGTGTAGCTTAAGCAAAGCATAACACTGAAGATGTTAAGAT...ATA AP012000.1\n",
      "--------------------------------------------...--- DR397932.1\n"
     ]
    }
   ],
   "source": [
    "with open(\"freshwater_fish_align.aln-clustalw\",\"r\") as aln: \n",
    "    alignment = AlignIO.read(aln,\"clustal\")\n",
    "print(type(alignment))\n",
    "print(alignment)"
   ]
  }
 ],
 "metadata": {
  "kernelspec": {
   "display_name": "Python 3",
   "language": "python",
   "name": "python3"
  },
  "language_info": {
   "codemirror_mode": {
    "name": "ipython",
    "version": 3
   },
   "file_extension": ".py",
   "mimetype": "text/x-python",
   "name": "python",
   "nbconvert_exporter": "python",
   "pygments_lexer": "ipython3",
   "version": "3.10.7"
  }
 },
 "nbformat": 4,
 "nbformat_minor": 2
}
